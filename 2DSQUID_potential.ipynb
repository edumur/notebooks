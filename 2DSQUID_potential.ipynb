{
 "metadata": {
  "name": "",
  "signature": "sha256:acfaaf027ea80e69e47375658775c29c6253ed1ebc6392a5c64666076575297d"
 },
 "nbformat": 3,
 "nbformat_minor": 0,
 "worksheets": [
  {
   "cells": [
    {
     "cell_type": "markdown",
     "metadata": {},
     "source": [
      "<h1>Tailor expansion of 2D DCSQUID potential</h1>\n",
      "\n",
      "This notebook performs the Tailor expansion of the potential.\n",
      "\n",
      "Notations and nomenclature follow the Etienne Dumur's thesis available <a href=\"https://tel.archives-ouvertes.fr/tel-01147222\">on this page</a>.\n",
      "\n",
      "<h2>Energies</h2>\n",
      "\n",
      "<ul>\n",
      "    <li>The josephson energy is denoted $E_j = (\\hbar/(2e)) I_c$.</li>\n",
      "    <li>The superconducting charging energy is denoted $E_c = (2e)^2/(2C)$.</li>\n",
      "</ul>\n",
      "\n",
      "<h2>Position</h2>\n",
      "<ul>\n",
      "    <li>The two dimensions are denoted $x$ and $y$.\n",
      "    <li>The coordinated of the bottom of the weel are denoted $x_0$ and $y_0$.</li>\n",
      "    <li>The plasma frequencies along the two directions are denoted $\\omega_x$ and $\\omega_y$.</li>\n",
      "</ul>\n",
      "\n",
      "<h2>Potential</h2>\n",
      "\n",
      "The 2D-SQUID potential is define as:\n",
      "\\begin{equation}\n",
      "V\\left( x, y \\right) = 2 E_\\mathrm{J} \\left[ -\\cos \\left( x \\right) \\cos \\left( y \\right)  + b \\left( y - \\pi \\frac{\\phi_\\mathrm{b}}{\\phi_0}\\right)\\right]\n",
      "\\end{equation}\n"
     ]
    },
    {
     "cell_type": "markdown",
     "metadata": {},
     "source": [
      "<h2>Import packages</h2>"
     ]
    },
    {
     "cell_type": "code",
     "collapsed": false,
     "input": [
      "from IPython.display import display\n",
      "import sympy as smp\n",
      "smp.init_printing(use_latex='mathjax')\n",
      "import itertools"
     ],
     "language": "python",
     "metadata": {},
     "outputs": [],
     "prompt_number": 1
    },
    {
     "cell_type": "markdown",
     "metadata": {},
     "source": [
      "<h2>Defines symbols</h2>"
     ]
    },
    {
     "cell_type": "code",
     "collapsed": false,
     "input": [
      "x, y, y_0, x_0, y_t, x_t = smp.symbols('x, y, y_0, x_0, \\\\tilde{x}, \\\\tilde{y}', real = True)\n",
      "b = smp.symbols('b', real = True)\n",
      "E_j = smp.symbols('E_\\mathrm{j}', real = True)\n",
      "phi_b, phi_0 = smp.symbols('phi_\\mathrm{b}, phi_0', real = True)\n",
      "omega_x, omega_y, hbar= smp.symbols('\\omega_x, \\omega_y, hbar', real = True)\n",
      "\n",
      "p = {'E_j' : E_j,\n",
      "     'y_0' : y_0,\n",
      "     'phi_b' : phi_b,\n",
      "     'phi_0' : phi_0,\n",
      "     'b' : b}"
     ],
     "language": "python",
     "metadata": {},
     "outputs": [],
     "prompt_number": 2
    },
    {
     "cell_type": "code",
     "collapsed": false,
     "input": [
      "def potential(p, x, y):\n",
      "    \"\"\"\n",
      "        Return the analytical formula of the 2D-SQUID potential. \n",
      "    \"\"\"\n",
      "    \n",
      "    return 2*p['E_j']*(-smp.cos(x)*smp.cos(y) + p['b']*(y - smp.pi*p['phi_b']/p['phi_0'])**2)"
     ],
     "language": "python",
     "metadata": {},
     "outputs": [],
     "prompt_number": 3
    },
    {
     "cell_type": "code",
     "collapsed": false,
     "input": [
      "def tailor_expansion(func, p, x, y, x_0, y_0, order):\n",
      "    \"\"\"\n",
      "        Execute the Tailor expansion along both direction x and y.\n",
      "        Return a list containing the expansion orders.\n",
      "    \"\"\"\n",
      "    \n",
      "    # We iterate on all the order\n",
      "    # The expansion variable will contain the whole expansion\n",
      "    expansion = []\n",
      "    for order in range(order+1):\n",
      "        \n",
      "        # We iterate on all item of the combinaison\n",
      "        # The idea is to get all the polynomial coefficient\n",
      "        # The serie variable will contain all the Taylor expansion\n",
      "        serie = 0\n",
      "        i, j = smp.symbols('i, j')\n",
      "        for i, j in zip(range(order+1), reversed(range(order+1))):\n",
      "\n",
      "            coefficient = x**i*y**j/smp.factorial(order)\n",
      "\n",
      "            # We iterate on all the possible permutations \n",
      "            # The idea is to get all the possible derivative along x or y\n",
      "            # The permutation variable will be the sum of all the derivatives\n",
      "            permutation = 0\n",
      "            for m in set(itertools.permutations(['x']*i + ['y']*j)):\n",
      "\n",
      "                V  = func(p, x_0, y_0)\n",
      "                for n in m:\n",
      "                    if n == 'x':\n",
      "                        V = smp.diff(V, x_0, 1)\n",
      "                    else:\n",
      "                        V = smp.diff(V, y_0, 1)\n",
      "                permutation += V\n",
      "\n",
      "            serie += coefficient*permutation\n",
      "        \n",
      "        expansion.append(serie)\n",
      "        \n",
      "    return expansion\n",
      "\n",
      "# First we obtain the Tailor expansion\n",
      "serie = tailor_expansion(potential, p, x, y, x_0, y_0, 8)\n",
      "# Second we replace x_0 by zero to simplify the expression (x_o is always 0 in this case)\n",
      "serie = [i.xreplace({x_0 : 0}) for i in serie]"
     ],
     "language": "python",
     "metadata": {},
     "outputs": [],
     "prompt_number": 5
    },
    {
     "cell_type": "code",
     "collapsed": false,
     "input": [
      "def display_serie(serie):\n",
      "    for i, j in enumerate(serie):\n",
      "        print i, 'order:'\n",
      "        display(j)\n",
      "\n",
      "display_serie(serie)"
     ],
     "language": "python",
     "metadata": {},
     "outputs": [
      {
       "output_type": "stream",
       "stream": "stdout",
       "text": [
        "0 order:\n"
       ]
      },
      {
       "latex": [
        "$$2 E_{\\mathrm{j}} \\left(b \\left(y_{0} - \\frac{\\pi \\phi_{\\mathrm{b}}}{\\phi_{0}}\\right)^{2} - \\cos{\\left (y_{0} \\right )}\\right)$$"
       ],
       "metadata": {},
       "output_type": "display_data",
       "text": [
        "               \u239b                       2          \u239e\n",
        "               \u239c  \u239b     \u03c0\u22c5\u03c6_\\mathrm{b}\u239e           \u239f\n",
        "2\u22c5E_\\mathrm{j}\u22c5\u239cb\u22c5\u239cy\u2080 - \u2500\u2500\u2500\u2500\u2500\u2500\u2500\u2500\u2500\u2500\u2500\u2500\u2500\u2500\u239f  - cos(y\u2080)\u239f\n",
        "               \u239d  \u239d           \u03c6\u2080      \u23a0           \u23a0"
       ]
      },
      {
       "output_type": "stream",
       "stream": "stdout",
       "text": [
        "1 order:\n"
       ]
      },
      {
       "latex": [
        "$$2 E_{\\mathrm{j}} y \\left(b \\left(2 y_{0} - \\frac{2 \\pi}{\\phi_{0}} \\phi_{\\mathrm{b}}\\right) + \\sin{\\left (y_{0} \\right )}\\right)$$"
       ],
       "metadata": {},
       "output_type": "display_data",
       "text": [
        "                 \u239b  \u239b       2\u22c5\u03c0\u22c5\u03c6_\\mathrm{b}\u239e          \u239e\n",
        "2\u22c5E_\\mathrm{j}\u22c5y\u22c5\u239cb\u22c5\u239c2\u22c5y\u2080 - \u2500\u2500\u2500\u2500\u2500\u2500\u2500\u2500\u2500\u2500\u2500\u2500\u2500\u2500\u2500\u2500\u239f + sin(y\u2080)\u239f\n",
        "                 \u239d  \u239d              \u03c6\u2080       \u23a0          \u23a0"
       ]
      },
      {
       "output_type": "stream",
       "stream": "stdout",
       "text": [
        "2 order:\n"
       ]
      },
      {
       "latex": [
        "$$E_{\\mathrm{j}} x^{2} \\cos{\\left (y_{0} \\right )} + E_{\\mathrm{j}} y^{2} \\left(2 b + \\cos{\\left (y_{0} \\right )}\\right)$$"
       ],
       "metadata": {},
       "output_type": "display_data",
       "text": [
        "              2                         2                \n",
        "E_\\mathrm{j}\u22c5x \u22c5cos(y\u2080) + E_\\mathrm{j}\u22c5y \u22c5(2\u22c5b + cos(y\u2080))"
       ]
      },
      {
       "output_type": "stream",
       "stream": "stdout",
       "text": [
        "3 order:\n"
       ]
      },
      {
       "latex": [
        "$$- E_{\\mathrm{j}} x^{2} y \\sin{\\left (y_{0} \\right )} - \\frac{E_{\\mathrm{j}} y^{3}}{3} \\sin{\\left (y_{0} \\right )}$$"
       ],
       "metadata": {},
       "output_type": "display_data",
       "text": [
        "                                            3        \n",
        "                2             E_\\mathrm{j}\u22c5y \u22c5sin(y\u2080)\n",
        "- E_\\mathrm{j}\u22c5x \u22c5y\u22c5sin(y\u2080) - \u2500\u2500\u2500\u2500\u2500\u2500\u2500\u2500\u2500\u2500\u2500\u2500\u2500\u2500\u2500\u2500\u2500\u2500\u2500\u2500\u2500\u2500\u2500\n",
        "                                         3           "
       ]
      },
      {
       "output_type": "stream",
       "stream": "stdout",
       "text": [
        "4 order:\n"
       ]
      },
      {
       "latex": [
        "$$- \\frac{E_{\\mathrm{j}} x^{4}}{12} \\cos{\\left (y_{0} \\right )} - \\frac{E_{\\mathrm{j}} x^{2}}{2} y^{2} \\cos{\\left (y_{0} \\right )} - \\frac{E_{\\mathrm{j}} y^{4}}{12} \\cos{\\left (y_{0} \\right )}$$"
       ],
       "metadata": {},
       "output_type": "display_data",
       "text": [
        "                4                         2  2                         4      \n",
        "  E_\\mathrm{j}\u22c5x \u22c5cos(y\u2080)   E_\\mathrm{j}\u22c5x \u22c5y \u22c5cos(y\u2080)   E_\\mathrm{j}\u22c5y \u22c5cos(y\n",
        "- \u2500\u2500\u2500\u2500\u2500\u2500\u2500\u2500\u2500\u2500\u2500\u2500\u2500\u2500\u2500\u2500\u2500\u2500\u2500\u2500\u2500\u2500\u2500 - \u2500\u2500\u2500\u2500\u2500\u2500\u2500\u2500\u2500\u2500\u2500\u2500\u2500\u2500\u2500\u2500\u2500\u2500\u2500\u2500\u2500\u2500\u2500\u2500\u2500\u2500 - \u2500\u2500\u2500\u2500\u2500\u2500\u2500\u2500\u2500\u2500\u2500\u2500\u2500\u2500\u2500\u2500\u2500\u2500\u2500\u2500\u2500\n",
        "             12                         2                           12        \n",
        "\n",
        "  \n",
        "\u2080)\n",
        "\u2500\u2500\n",
        "  "
       ]
      },
      {
       "output_type": "stream",
       "stream": "stdout",
       "text": [
        "5 order:\n"
       ]
      },
      {
       "latex": [
        "$$\\frac{E_{\\mathrm{j}} y}{12} x^{4} \\sin{\\left (y_{0} \\right )} + \\frac{E_{\\mathrm{j}} x^{2}}{6} y^{3} \\sin{\\left (y_{0} \\right )} + \\frac{E_{\\mathrm{j}} y^{5}}{60} \\sin{\\left (y_{0} \\right )}$$"
       ],
       "metadata": {},
       "output_type": "display_data",
       "text": [
        "              4                           2  3                         5      \n",
        "E_\\mathrm{j}\u22c5x \u22c5y\u22c5sin(y\u2080)   E_\\mathrm{j}\u22c5x \u22c5y \u22c5sin(y\u2080)   E_\\mathrm{j}\u22c5y \u22c5sin(y\n",
        "\u2500\u2500\u2500\u2500\u2500\u2500\u2500\u2500\u2500\u2500\u2500\u2500\u2500\u2500\u2500\u2500\u2500\u2500\u2500\u2500\u2500\u2500\u2500\u2500\u2500 + \u2500\u2500\u2500\u2500\u2500\u2500\u2500\u2500\u2500\u2500\u2500\u2500\u2500\u2500\u2500\u2500\u2500\u2500\u2500\u2500\u2500\u2500\u2500\u2500\u2500\u2500 + \u2500\u2500\u2500\u2500\u2500\u2500\u2500\u2500\u2500\u2500\u2500\u2500\u2500\u2500\u2500\u2500\u2500\u2500\u2500\u2500\u2500\n",
        "            12                          6                           60        \n",
        "\n",
        "  \n",
        "\u2080)\n",
        "\u2500\u2500\n",
        "  "
       ]
      },
      {
       "output_type": "stream",
       "stream": "stdout",
       "text": [
        "6 order:\n"
       ]
      },
      {
       "latex": [
        "$$\\frac{E_{\\mathrm{j}} x^{6}}{360} \\cos{\\left (y_{0} \\right )} + \\frac{E_{\\mathrm{j}} x^{4}}{24} y^{2} \\cos{\\left (y_{0} \\right )} + \\frac{E_{\\mathrm{j}} x^{2}}{24} y^{4} \\cos{\\left (y_{0} \\right )} + \\frac{E_{\\mathrm{j}} y^{6}}{360} \\cos{\\left (y_{0} \\right )}$$"
       ],
       "metadata": {},
       "output_type": "display_data",
       "text": [
        "              6                         4  2                         2  4     \n",
        "E_\\mathrm{j}\u22c5x \u22c5cos(y\u2080)   E_\\mathrm{j}\u22c5x \u22c5y \u22c5cos(y\u2080)   E_\\mathrm{j}\u22c5x \u22c5y \u22c5cos(\n",
        "\u2500\u2500\u2500\u2500\u2500\u2500\u2500\u2500\u2500\u2500\u2500\u2500\u2500\u2500\u2500\u2500\u2500\u2500\u2500\u2500\u2500\u2500\u2500 + \u2500\u2500\u2500\u2500\u2500\u2500\u2500\u2500\u2500\u2500\u2500\u2500\u2500\u2500\u2500\u2500\u2500\u2500\u2500\u2500\u2500\u2500\u2500\u2500\u2500\u2500 + \u2500\u2500\u2500\u2500\u2500\u2500\u2500\u2500\u2500\u2500\u2500\u2500\u2500\u2500\u2500\u2500\u2500\u2500\u2500\u2500\u2500\u2500\u2500\n",
        "          360                         24                           24         \n",
        "\n",
        "                    6        \n",
        "y\u2080)   E_\\mathrm{j}\u22c5y \u22c5cos(y\u2080)\n",
        "\u2500\u2500\u2500 + \u2500\u2500\u2500\u2500\u2500\u2500\u2500\u2500\u2500\u2500\u2500\u2500\u2500\u2500\u2500\u2500\u2500\u2500\u2500\u2500\u2500\u2500\u2500\n",
        "                360          "
       ]
      },
      {
       "output_type": "stream",
       "stream": "stdout",
       "text": [
        "7 order:\n"
       ]
      },
      {
       "latex": [
        "$$- \\frac{E_{\\mathrm{j}} y}{360} x^{6} \\sin{\\left (y_{0} \\right )} - \\frac{E_{\\mathrm{j}} x^{4}}{72} y^{3} \\sin{\\left (y_{0} \\right )} - \\frac{E_{\\mathrm{j}} x^{2}}{120} y^{5} \\sin{\\left (y_{0} \\right )} - \\frac{E_{\\mathrm{j}} y^{7}}{2520} \\sin{\\left (y_{0} \\right )}$$"
       ],
       "metadata": {},
       "output_type": "display_data",
       "text": [
        "                6                           4  3                         2  5 \n",
        "  E_\\mathrm{j}\u22c5x \u22c5y\u22c5sin(y\u2080)   E_\\mathrm{j}\u22c5x \u22c5y \u22c5sin(y\u2080)   E_\\mathrm{j}\u22c5x \u22c5y \u22c5\n",
        "- \u2500\u2500\u2500\u2500\u2500\u2500\u2500\u2500\u2500\u2500\u2500\u2500\u2500\u2500\u2500\u2500\u2500\u2500\u2500\u2500\u2500\u2500\u2500\u2500\u2500 - \u2500\u2500\u2500\u2500\u2500\u2500\u2500\u2500\u2500\u2500\u2500\u2500\u2500\u2500\u2500\u2500\u2500\u2500\u2500\u2500\u2500\u2500\u2500\u2500\u2500\u2500 - \u2500\u2500\u2500\u2500\u2500\u2500\u2500\u2500\u2500\u2500\u2500\u2500\u2500\u2500\u2500\u2500\u2500\u2500\u2500\n",
        "             360                          72                          120     \n",
        "\n",
        "                        7        \n",
        "sin(y\u2080)   E_\\mathrm{j}\u22c5y \u22c5sin(y\u2080)\n",
        "\u2500\u2500\u2500\u2500\u2500\u2500\u2500 - \u2500\u2500\u2500\u2500\u2500\u2500\u2500\u2500\u2500\u2500\u2500\u2500\u2500\u2500\u2500\u2500\u2500\u2500\u2500\u2500\u2500\u2500\u2500\n",
        "                    2520         "
       ]
      },
      {
       "output_type": "stream",
       "stream": "stdout",
       "text": [
        "8 order:\n"
       ]
      },
      {
       "latex": [
        "$$- \\frac{E_{\\mathrm{j}} x^{8}}{20160} \\cos{\\left (y_{0} \\right )} - \\frac{E_{\\mathrm{j}} x^{6}}{720} y^{2} \\cos{\\left (y_{0} \\right )} - \\frac{E_{\\mathrm{j}} x^{4}}{288} y^{4} \\cos{\\left (y_{0} \\right )} - \\frac{E_{\\mathrm{j}} x^{2}}{720} y^{6} \\cos{\\left (y_{0} \\right )} - \\frac{E_{\\mathrm{j}} y^{8}}{20160} \\cos{\\left (y_{0} \\right )}$$"
       ],
       "metadata": {},
       "output_type": "display_data",
       "text": [
        "                8                         6  2                         4  4   \n",
        "  E_\\mathrm{j}\u22c5x \u22c5cos(y\u2080)   E_\\mathrm{j}\u22c5x \u22c5y \u22c5cos(y\u2080)   E_\\mathrm{j}\u22c5x \u22c5y \u22c5co\n",
        "- \u2500\u2500\u2500\u2500\u2500\u2500\u2500\u2500\u2500\u2500\u2500\u2500\u2500\u2500\u2500\u2500\u2500\u2500\u2500\u2500\u2500\u2500\u2500 - \u2500\u2500\u2500\u2500\u2500\u2500\u2500\u2500\u2500\u2500\u2500\u2500\u2500\u2500\u2500\u2500\u2500\u2500\u2500\u2500\u2500\u2500\u2500\u2500\u2500\u2500 - \u2500\u2500\u2500\u2500\u2500\u2500\u2500\u2500\u2500\u2500\u2500\u2500\u2500\u2500\u2500\u2500\u2500\u2500\u2500\u2500\u2500\n",
        "           20160                       720                          288       \n",
        "\n",
        "                      2  6                         8        \n",
        "s(y\u2080)   E_\\mathrm{j}\u22c5x \u22c5y \u22c5cos(y\u2080)   E_\\mathrm{j}\u22c5y \u22c5cos(y\u2080)\n",
        "\u2500\u2500\u2500\u2500\u2500 - \u2500\u2500\u2500\u2500\u2500\u2500\u2500\u2500\u2500\u2500\u2500\u2500\u2500\u2500\u2500\u2500\u2500\u2500\u2500\u2500\u2500\u2500\u2500\u2500\u2500\u2500 - \u2500\u2500\u2500\u2500\u2500\u2500\u2500\u2500\u2500\u2500\u2500\u2500\u2500\u2500\u2500\u2500\u2500\u2500\u2500\u2500\u2500\u2500\u2500\n",
        "                   720                        20160         "
       ]
      }
     ],
     "prompt_number": 6
    },
    {
     "cell_type": "markdown",
     "metadata": {},
     "source": [
      "<h2>Standard canonical quantization</h2>\n",
      "\n",
      "We simplify the Hamiltonian by introducing a new set of canonical variables:\n",
      "\\begin{equation}\n",
      "\\tilde{x} = \\sqrt{\\frac{2 E_\\mathrm{J} \\cos \\left( y_0\\right)}{\\hbar \\omega_x}} x \\;\\;\\;\\;, \\;\\;\\;\\; \\tilde{y} = \\sqrt{\\frac{2 E_\\mathrm{J} \\left[\\cos \\left( y_0\\right) + 2b \\right]}{\\hbar \\omega_y}} y\n",
      "\\end{equation}"
     ]
    },
    {
     "cell_type": "code",
     "collapsed": false,
     "input": [
      "serie = [i.xreplace({x : smp.sqrt(hbar*omega_x/2/E_j/smp.cos(y_0))*x_t,\n",
      "                     y : smp.sqrt(hbar*omega_y/2/E_j/(smp.cos(y_0) + 2*b))*y_t})\n",
      "         for i in serie]\n",
      "\n",
      "display_serie(serie)"
     ],
     "language": "python",
     "metadata": {},
     "outputs": [
      {
       "output_type": "stream",
       "stream": "stdout",
       "text": [
        "0 order:\n"
       ]
      },
      {
       "latex": [
        "$$2 E_{\\mathrm{j}} \\left(b \\left(y_{0} - \\frac{\\pi \\phi_{\\mathrm{b}}}{\\phi_{0}}\\right)^{2} - \\cos{\\left (y_{0} \\right )}\\right)$$"
       ],
       "metadata": {},
       "output_type": "display_data",
       "text": [
        "               \u239b                       2          \u239e\n",
        "               \u239c  \u239b     \u03c0\u22c5\u03c6_\\mathrm{b}\u239e           \u239f\n",
        "2\u22c5E_\\mathrm{j}\u22c5\u239cb\u22c5\u239cy\u2080 - \u2500\u2500\u2500\u2500\u2500\u2500\u2500\u2500\u2500\u2500\u2500\u2500\u2500\u2500\u239f  - cos(y\u2080)\u239f\n",
        "               \u239d  \u239d           \u03c6\u2080      \u23a0           \u23a0"
       ]
      },
      {
       "output_type": "stream",
       "stream": "stdout",
       "text": [
        "1 order:\n"
       ]
      },
      {
       "latex": [
        "$$\\sqrt{2} E_{\\mathrm{j}} \\tilde{x} \\sqrt{\\frac{\\omega_{y} \\hbar}{E_{\\mathrm{j}} \\left(2 b + \\cos{\\left (y_{0} \\right )}\\right)}} \\left(b \\left(2 y_{0} - \\frac{2 \\pi}{\\phi_{0}} \\phi_{\\mathrm{b}}\\right) + \\sin{\\left (y_{0} \\right )}\\right)$$"
       ],
       "metadata": {},
       "output_type": "display_data",
       "text": [
        "                                 ______________________________               \n",
        "  ___                           \u2571         \\omega_y\u22c5h\u0305           \u239b  \u239b       2\u22c5\u03c0\n",
        "\u2572\u2571 2 \u22c5E_\\mathrm{j}\u22c5\\tilde{x}\u22c5  \u2571  \u2500\u2500\u2500\u2500\u2500\u2500\u2500\u2500\u2500\u2500\u2500\u2500\u2500\u2500\u2500\u2500\u2500\u2500\u2500\u2500\u2500\u2500\u2500\u2500\u2500\u2500\u2500\u2500 \u22c5\u239cb\u22c5\u239c2\u22c5y\u2080 - \u2500\u2500\u2500\n",
        "                             \u2572\u2571   E_\\mathrm{j}\u22c5(2\u22c5b + cos(y\u2080))  \u239d  \u239d          \n",
        "\n",
        "                         \n",
        "\u22c5\u03c6_\\mathrm{b}\u239e          \u239e\n",
        "\u2500\u2500\u2500\u2500\u2500\u2500\u2500\u2500\u2500\u2500\u2500\u2500\u2500\u239f + sin(y\u2080)\u239f\n",
        "    \u03c6\u2080       \u23a0          \u23a0"
       ]
      },
      {
       "output_type": "stream",
       "stream": "stdout",
       "text": [
        "2 order:\n"
       ]
      },
      {
       "latex": [
        "$$\\frac{\\omega_{x} \\hbar}{2} \\tilde{y}^{2} + \\frac{\\omega_{y} \\hbar}{2} \\tilde{x}^{2}$$"
       ],
       "metadata": {},
       "output_type": "display_data",
       "text": [
        "                 2                        2   \n",
        "\\omega\u2093\u22c5\\tilde{y} \u22c5h\u0305   \\omega_y\u22c5\\tilde{x} \u22c5h\u0305\n",
        "\u2500\u2500\u2500\u2500\u2500\u2500\u2500\u2500\u2500\u2500\u2500\u2500\u2500\u2500\u2500\u2500\u2500\u2500\u2500\u2500\u2500 + \u2500\u2500\u2500\u2500\u2500\u2500\u2500\u2500\u2500\u2500\u2500\u2500\u2500\u2500\u2500\u2500\u2500\u2500\u2500\u2500\u2500\u2500\n",
        "          2                       2           "
       ]
      },
      {
       "output_type": "stream",
       "stream": "stdout",
       "text": [
        "3 order:\n"
       ]
      },
      {
       "latex": [
        "$$- \\frac{\\sqrt{2} E_{\\mathrm{j}}}{12} \\tilde{x}^{3} \\left(\\frac{\\omega_{y} \\hbar}{E_{\\mathrm{j}} \\left(2 b + \\cos{\\left (y_{0} \\right )}\\right)}\\right)^{\\frac{3}{2}} \\sin{\\left (y_{0} \\right )} - \\frac{\\sqrt{2} \\omega_{x} \\tilde{x} \\tilde{y}^{2} \\hbar \\sin{\\left (y_{0} \\right )}}{4 \\cos{\\left (y_{0} \\right )}} \\sqrt{\\frac{\\omega_{y} \\hbar}{E_{\\mathrm{j}} \\left(2 b + \\cos{\\left (y_{0} \\right )}\\right)}}$$"
       ],
       "metadata": {},
       "output_type": "display_data",
       "text": [
        "                                                              3/2             \n",
        "    ___                       3 \u239b        \\omega_y\u22c5h\u0305         \u239e                \n",
        "  \u2572\u2571 2 \u22c5E_\\mathrm{j}\u22c5\\tilde{x} \u22c5\u239c\u2500\u2500\u2500\u2500\u2500\u2500\u2500\u2500\u2500\u2500\u2500\u2500\u2500\u2500\u2500\u2500\u2500\u2500\u2500\u2500\u2500\u2500\u2500\u2500\u2500\u2500\u2500\u2500\u239f   \u22c5sin(y\u2080)   \u2572\u2571\n",
        "                                \u239dE_\\mathrm{j}\u22c5(2\u22c5b + cos(y\u2080))\u23a0                \n",
        "- \u2500\u2500\u2500\u2500\u2500\u2500\u2500\u2500\u2500\u2500\u2500\u2500\u2500\u2500\u2500\u2500\u2500\u2500\u2500\u2500\u2500\u2500\u2500\u2500\u2500\u2500\u2500\u2500\u2500\u2500\u2500\u2500\u2500\u2500\u2500\u2500\u2500\u2500\u2500\u2500\u2500\u2500\u2500\u2500\u2500\u2500\u2500\u2500\u2500\u2500\u2500\u2500\u2500\u2500\u2500\u2500\u2500\u2500\u2500\u2500\u2500\u2500\u2500\u2500\u2500\u2500\u2500\u2500\u2500\u2500\u2500 - \u2500\u2500\n",
        "                                     12                                       \n",
        "\n",
        "                                        ______________________________        \n",
        "___                            2       \u2571         \\omega_y\u22c5h\u0305                  \n",
        " 2 \u22c5\\omega\u2093\u22c5\\tilde{x}\u22c5\\tilde{y} \u22c5h\u0305\u22c5  \u2571  \u2500\u2500\u2500\u2500\u2500\u2500\u2500\u2500\u2500\u2500\u2500\u2500\u2500\u2500\u2500\u2500\u2500\u2500\u2500\u2500\u2500\u2500\u2500\u2500\u2500\u2500\u2500\u2500 \u22c5sin(y\u2080)\n",
        "                                    \u2572\u2571   E_\\mathrm{j}\u22c5(2\u22c5b + cos(y\u2080))         \n",
        "\u2500\u2500\u2500\u2500\u2500\u2500\u2500\u2500\u2500\u2500\u2500\u2500\u2500\u2500\u2500\u2500\u2500\u2500\u2500\u2500\u2500\u2500\u2500\u2500\u2500\u2500\u2500\u2500\u2500\u2500\u2500\u2500\u2500\u2500\u2500\u2500\u2500\u2500\u2500\u2500\u2500\u2500\u2500\u2500\u2500\u2500\u2500\u2500\u2500\u2500\u2500\u2500\u2500\u2500\u2500\u2500\u2500\u2500\u2500\u2500\u2500\u2500\u2500\u2500\u2500\u2500\u2500\u2500\u2500\u2500\u2500\u2500\u2500\u2500\u2500\u2500\u2500\u2500\n",
        "                                 4\u22c5cos(y\u2080)                                    "
       ]
      },
      {
       "output_type": "stream",
       "stream": "stdout",
       "text": [
        "4 order:\n"
       ]
      },
      {
       "latex": [
        "$$- \\frac{\\omega_{x}^{2} \\tilde{y}^{4} \\hbar^{2}}{48 E_{\\mathrm{j}} \\cos{\\left (y_{0} \\right )}} - \\frac{\\omega_{x} \\omega_{y} \\tilde{x}^{2} \\tilde{y}^{2} \\hbar^{2}}{8 E_{\\mathrm{j}} \\left(2 b + \\cos{\\left (y_{0} \\right )}\\right)} - \\frac{\\omega_{y}^{2} \\tilde{x}^{4} \\hbar^{2} \\cos{\\left (y_{0} \\right )}}{48 E_{\\mathrm{j}} \\left(2 b + \\cos{\\left (y_{0} \\right )}\\right)^{2}}$$"
       ],
       "metadata": {},
       "output_type": "display_data",
       "text": [
        "         2          4   2                             2          2   2        \n",
        "  \\omega\u2093 \u22c5\\tilde{y} \u22c5h\u0305    \\omega\u2093\u22c5\\omega_y\u22c5\\tilde{x} \u22c5\\tilde{y} \u22c5h\u0305    \\omeg\n",
        "- \u2500\u2500\u2500\u2500\u2500\u2500\u2500\u2500\u2500\u2500\u2500\u2500\u2500\u2500\u2500\u2500\u2500\u2500\u2500\u2500\u2500\u2500\u2500 - \u2500\u2500\u2500\u2500\u2500\u2500\u2500\u2500\u2500\u2500\u2500\u2500\u2500\u2500\u2500\u2500\u2500\u2500\u2500\u2500\u2500\u2500\u2500\u2500\u2500\u2500\u2500\u2500\u2500\u2500\u2500\u2500\u2500\u2500\u2500\u2500\u2500\u2500\u2500\u2500\u2500\u2500 - \u2500\u2500\u2500\u2500\u2500\n",
        "  48\u22c5E_\\mathrm{j}\u22c5cos(y\u2080)         8\u22c5E_\\mathrm{j}\u22c5(2\u22c5b + cos(y\u2080))              \n",
        "                                                                         48\u22c5E_\n",
        "\n",
        "   2          4   2        \n",
        "a_y \u22c5\\tilde{x} \u22c5h\u0305 \u22c5cos(y\u2080)\n",
        "\u2500\u2500\u2500\u2500\u2500\u2500\u2500\u2500\u2500\u2500\u2500\u2500\u2500\u2500\u2500\u2500\u2500\u2500\u2500\u2500\u2500\u2500\u2500\u2500\u2500\u2500\u2500\n",
        "                          2\n",
        "\\mathrm{j}\u22c5(2\u22c5b + cos(y\u2080)) "
       ]
      },
      {
       "output_type": "stream",
       "stream": "stdout",
       "text": [
        "5 order:\n"
       ]
      },
      {
       "latex": [
        "$$\\frac{\\sqrt{2} E_{\\mathrm{j}}}{480} \\tilde{x}^{5} \\left(\\frac{\\omega_{y} \\hbar}{E_{\\mathrm{j}} \\left(2 b + \\cos{\\left (y_{0} \\right )}\\right)}\\right)^{\\frac{5}{2}} \\sin{\\left (y_{0} \\right )} + \\frac{\\sqrt{2} \\omega_{x} \\tilde{x}^{3} \\tilde{y}^{2} \\hbar \\sin{\\left (y_{0} \\right )}}{48 \\cos{\\left (y_{0} \\right )}} \\left(\\frac{\\omega_{y} \\hbar}{E_{\\mathrm{j}} \\left(2 b + \\cos{\\left (y_{0} \\right )}\\right)}\\right)^{\\frac{3}{2}} + \\frac{\\sqrt{2} \\omega_{x}^{2} \\tilde{x} \\tilde{y}^{4} \\hbar^{2} \\sin{\\left (y_{0} \\right )}}{96 E_{\\mathrm{j}} \\cos^{2}{\\left (y_{0} \\right )}} \\sqrt{\\frac{\\omega_{y} \\hbar}{E_{\\mathrm{j}} \\left(2 b + \\cos{\\left (y_{0} \\right )}\\right)}}$$"
       ],
       "metadata": {},
       "output_type": "display_data",
       "text": [
        "                                                            5/2               \n",
        "  ___                       5 \u239b        \\omega_y\u22c5h\u0305         \u239e                __\n",
        "\u2572\u2571 2 \u22c5E_\\mathrm{j}\u22c5\\tilde{x} \u22c5\u239c\u2500\u2500\u2500\u2500\u2500\u2500\u2500\u2500\u2500\u2500\u2500\u2500\u2500\u2500\u2500\u2500\u2500\u2500\u2500\u2500\u2500\u2500\u2500\u2500\u2500\u2500\u2500\u2500\u239f   \u22c5sin(y\u2080)   \u2572\u2571 2\n",
        "                              \u239dE_\\mathrm{j}\u22c5(2\u22c5b + cos(y\u2080))\u23a0                  \n",
        "\u2500\u2500\u2500\u2500\u2500\u2500\u2500\u2500\u2500\u2500\u2500\u2500\u2500\u2500\u2500\u2500\u2500\u2500\u2500\u2500\u2500\u2500\u2500\u2500\u2500\u2500\u2500\u2500\u2500\u2500\u2500\u2500\u2500\u2500\u2500\u2500\u2500\u2500\u2500\u2500\u2500\u2500\u2500\u2500\u2500\u2500\u2500\u2500\u2500\u2500\u2500\u2500\u2500\u2500\u2500\u2500\u2500\u2500\u2500\u2500\u2500\u2500\u2500\u2500\u2500\u2500\u2500\u2500\u2500\u2500\u2500 + \u2500\u2500\u2500\u2500\n",
        "                                  480                                         \n",
        "                                                                              \n",
        "\n",
        "                                                                 3/2          \n",
        "_                  3          2    \u239b        \\omega_y\u22c5h\u0305         \u239e             \n",
        " \u22c5\\omega\u2093\u22c5\\tilde{x} \u22c5\\tilde{y} \u22c5h\u0305\u22c5\u239c\u2500\u2500\u2500\u2500\u2500\u2500\u2500\u2500\u2500\u2500\u2500\u2500\u2500\u2500\u2500\u2500\u2500\u2500\u2500\u2500\u2500\u2500\u2500\u2500\u2500\u2500\u2500\u2500\u239f   \u22c5sin(y\u2080)  \n",
        "                                   \u239dE_\\mathrm{j}\u22c5(2\u22c5b + cos(y\u2080))\u23a0             \n",
        "\u2500\u2500\u2500\u2500\u2500\u2500\u2500\u2500\u2500\u2500\u2500\u2500\u2500\u2500\u2500\u2500\u2500\u2500\u2500\u2500\u2500\u2500\u2500\u2500\u2500\u2500\u2500\u2500\u2500\u2500\u2500\u2500\u2500\u2500\u2500\u2500\u2500\u2500\u2500\u2500\u2500\u2500\u2500\u2500\u2500\u2500\u2500\u2500\u2500\u2500\u2500\u2500\u2500\u2500\u2500\u2500\u2500\u2500\u2500\u2500\u2500\u2500\u2500\u2500\u2500\u2500\u2500\u2500\u2500\u2500\u2500\u2500\u2500\u2500\u2500\u2500 +\n",
        "                               48\u22c5cos(y\u2080)                                     \n",
        "                                                                              \n",
        "\n",
        "                                             ______________________________   \n",
        "   ___        2                    4   2    \u2571         \\omega_y\u22c5h\u0305             \n",
        " \u2572\u2571 2 \u22c5\\omega\u2093 \u22c5\\tilde{x}\u22c5\\tilde{y} \u22c5h\u0305 \u22c5  \u2571  \u2500\u2500\u2500\u2500\u2500\u2500\u2500\u2500\u2500\u2500\u2500\u2500\u2500\u2500\u2500\u2500\u2500\u2500\u2500\u2500\u2500\u2500\u2500\u2500\u2500\u2500\u2500\u2500 \u22c5si\n",
        "                                         \u2572\u2571   E_\\mathrm{j}\u22c5(2\u22c5b + cos(y\u2080))    \n",
        " \u2500\u2500\u2500\u2500\u2500\u2500\u2500\u2500\u2500\u2500\u2500\u2500\u2500\u2500\u2500\u2500\u2500\u2500\u2500\u2500\u2500\u2500\u2500\u2500\u2500\u2500\u2500\u2500\u2500\u2500\u2500\u2500\u2500\u2500\u2500\u2500\u2500\u2500\u2500\u2500\u2500\u2500\u2500\u2500\u2500\u2500\u2500\u2500\u2500\u2500\u2500\u2500\u2500\u2500\u2500\u2500\u2500\u2500\u2500\u2500\u2500\u2500\u2500\u2500\u2500\u2500\u2500\u2500\u2500\u2500\u2500\u2500\u2500\u2500\u2500\u2500\u2500\n",
        "                                                 2                            \n",
        "                              96\u22c5E_\\mathrm{j}\u22c5cos (y\u2080)                        \n",
        "\n",
        "     \n",
        "     \n",
        "n(y\u2080)\n",
        "     \n",
        "\u2500\u2500\u2500\u2500\u2500\n",
        "     \n",
        "     "
       ]
      },
      {
       "output_type": "stream",
       "stream": "stdout",
       "text": [
        "6 order:\n"
       ]
      },
      {
       "latex": [
        "$$\\frac{\\omega_{x}^{3} \\tilde{y}^{6} \\hbar^{3}}{2880 E_{\\mathrm{j}}^{2} \\cos^{2}{\\left (y_{0} \\right )}} + \\frac{\\omega_{x}^{2} \\omega_{y} \\tilde{x}^{2} \\tilde{y}^{4} \\hbar^{3}}{192 E_{\\mathrm{j}}^{2} \\left(2 b + \\cos{\\left (y_{0} \\right )}\\right) \\cos{\\left (y_{0} \\right )}} + \\frac{\\omega_{x} \\omega_{y}^{2} \\tilde{x}^{4} \\tilde{y}^{2} \\hbar^{3}}{192 E_{\\mathrm{j}}^{2} \\left(2 b + \\cos{\\left (y_{0} \\right )}\\right)^{2}} + \\frac{\\omega_{y}^{3} \\tilde{x}^{6} \\hbar^{3} \\cos{\\left (y_{0} \\right )}}{2880 E_{\\mathrm{j}}^{2} \\left(2 b + \\cos{\\left (y_{0} \\right )}\\right)^{3}}$$"
       ],
       "metadata": {},
       "output_type": "display_data",
       "text": [
        "         3          6   3            2                   2          4   3     \n",
        "  \\omega\u2093 \u22c5\\tilde{y} \u22c5h\u0305      \\omega\u2093 \u22c5\\omega_y\u22c5\\tilde{x} \u22c5\\tilde{y} \u22c5h\u0305    \\o\n",
        "\u2500\u2500\u2500\u2500\u2500\u2500\u2500\u2500\u2500\u2500\u2500\u2500\u2500\u2500\u2500\u2500\u2500\u2500\u2500\u2500\u2500\u2500\u2500\u2500\u2500\u2500\u2500 + \u2500\u2500\u2500\u2500\u2500\u2500\u2500\u2500\u2500\u2500\u2500\u2500\u2500\u2500\u2500\u2500\u2500\u2500\u2500\u2500\u2500\u2500\u2500\u2500\u2500\u2500\u2500\u2500\u2500\u2500\u2500\u2500\u2500\u2500\u2500\u2500\u2500\u2500\u2500\u2500\u2500\u2500\u2500 + \u2500\u2500\n",
        "                 2    2                        2                              \n",
        "2880\u22c5E_\\mathrm{j} \u22c5cos (y\u2080)    192\u22c5E_\\mathrm{j} \u22c5(2\u22c5b + cos(y\u2080))\u22c5cos(y\u2080)      \n",
        "\n",
        "              2          4          2   3             3          6   3        \n",
        "mega\u2093\u22c5\\omega_y \u22c5\\tilde{x} \u22c5\\tilde{y} \u22c5h\u0305      \\omega_y \u22c5\\tilde{x} \u22c5h\u0305 \u22c5cos(y\u2080)\n",
        "\u2500\u2500\u2500\u2500\u2500\u2500\u2500\u2500\u2500\u2500\u2500\u2500\u2500\u2500\u2500\u2500\u2500\u2500\u2500\u2500\u2500\u2500\u2500\u2500\u2500\u2500\u2500\u2500\u2500\u2500\u2500\u2500\u2500\u2500\u2500\u2500\u2500\u2500\u2500\u2500\u2500 + \u2500\u2500\u2500\u2500\u2500\u2500\u2500\u2500\u2500\u2500\u2500\u2500\u2500\u2500\u2500\u2500\u2500\u2500\u2500\u2500\u2500\u2500\u2500\u2500\u2500\u2500\u2500\u2500\u2500\u2500\u2500\u2500\u2500\u2500\n",
        "                   2                2                        2                \n",
        "   192\u22c5E_\\mathrm{j} \u22c5(2\u22c5b + cos(y\u2080))        2880\u22c5E_\\mathrm{j} \u22c5(2\u22c5b + cos(y\u2080))\n",
        "\n",
        " \n",
        " \n",
        "\u2500\n",
        "3\n",
        " "
       ]
      },
      {
       "output_type": "stream",
       "stream": "stdout",
       "text": [
        "7 order:\n"
       ]
      },
      {
       "latex": [
        "$$- \\frac{\\sqrt{2} E_{\\mathrm{j}}}{40320} \\tilde{x}^{7} \\left(\\frac{\\omega_{y} \\hbar}{E_{\\mathrm{j}} \\left(2 b + \\cos{\\left (y_{0} \\right )}\\right)}\\right)^{\\frac{7}{2}} \\sin{\\left (y_{0} \\right )} - \\frac{\\sqrt{2} \\omega_{x} \\tilde{x}^{5} \\tilde{y}^{2} \\hbar \\sin{\\left (y_{0} \\right )}}{1920 \\cos{\\left (y_{0} \\right )}} \\left(\\frac{\\omega_{y} \\hbar}{E_{\\mathrm{j}} \\left(2 b + \\cos{\\left (y_{0} \\right )}\\right)}\\right)^{\\frac{5}{2}} - \\frac{\\sqrt{2} \\omega_{x}^{2} \\tilde{x}^{3} \\tilde{y}^{4} \\hbar^{2} \\sin{\\left (y_{0} \\right )}}{1152 E_{\\mathrm{j}} \\cos^{2}{\\left (y_{0} \\right )}} \\left(\\frac{\\omega_{y} \\hbar}{E_{\\mathrm{j}} \\left(2 b + \\cos{\\left (y_{0} \\right )}\\right)}\\right)^{\\frac{3}{2}} - \\frac{\\sqrt{2} \\omega_{x}^{3} \\tilde{x} \\tilde{y}^{6} \\hbar^{3} \\sin{\\left (y_{0} \\right )}}{5760 E_{\\mathrm{j}}^{2} \\cos^{3}{\\left (y_{0} \\right )}} \\sqrt{\\frac{\\omega_{y} \\hbar}{E_{\\mathrm{j}} \\left(2 b + \\cos{\\left (y_{0} \\right )}\\right)}}$$"
       ],
       "metadata": {},
       "output_type": "display_data",
       "text": [
        "                                                              7/2             \n",
        "    ___                       7 \u239b        \\omega_y\u22c5h\u0305         \u239e                \n",
        "  \u2572\u2571 2 \u22c5E_\\mathrm{j}\u22c5\\tilde{x} \u22c5\u239c\u2500\u2500\u2500\u2500\u2500\u2500\u2500\u2500\u2500\u2500\u2500\u2500\u2500\u2500\u2500\u2500\u2500\u2500\u2500\u2500\u2500\u2500\u2500\u2500\u2500\u2500\u2500\u2500\u239f   \u22c5sin(y\u2080)   \u2572\u2571\n",
        "                                \u239dE_\\mathrm{j}\u22c5(2\u22c5b + cos(y\u2080))\u23a0                \n",
        "- \u2500\u2500\u2500\u2500\u2500\u2500\u2500\u2500\u2500\u2500\u2500\u2500\u2500\u2500\u2500\u2500\u2500\u2500\u2500\u2500\u2500\u2500\u2500\u2500\u2500\u2500\u2500\u2500\u2500\u2500\u2500\u2500\u2500\u2500\u2500\u2500\u2500\u2500\u2500\u2500\u2500\u2500\u2500\u2500\u2500\u2500\u2500\u2500\u2500\u2500\u2500\u2500\u2500\u2500\u2500\u2500\u2500\u2500\u2500\u2500\u2500\u2500\u2500\u2500\u2500\u2500\u2500\u2500\u2500\u2500\u2500 - \u2500\u2500\n",
        "                                   40320                                      \n",
        "                                                                              \n",
        "\n",
        "                                                                   5/2        \n",
        "___                  5          2    \u239b        \\omega_y\u22c5h\u0305         \u239e           \n",
        " 2 \u22c5\\omega\u2093\u22c5\\tilde{x} \u22c5\\tilde{y} \u22c5h\u0305\u22c5\u239c\u2500\u2500\u2500\u2500\u2500\u2500\u2500\u2500\u2500\u2500\u2500\u2500\u2500\u2500\u2500\u2500\u2500\u2500\u2500\u2500\u2500\u2500\u2500\u2500\u2500\u2500\u2500\u2500\u239f   \u22c5sin(y\u2080)\n",
        "                                     \u239dE_\\mathrm{j}\u22c5(2\u22c5b + cos(y\u2080))\u23a0           \n",
        "\u2500\u2500\u2500\u2500\u2500\u2500\u2500\u2500\u2500\u2500\u2500\u2500\u2500\u2500\u2500\u2500\u2500\u2500\u2500\u2500\u2500\u2500\u2500\u2500\u2500\u2500\u2500\u2500\u2500\u2500\u2500\u2500\u2500\u2500\u2500\u2500\u2500\u2500\u2500\u2500\u2500\u2500\u2500\u2500\u2500\u2500\u2500\u2500\u2500\u2500\u2500\u2500\u2500\u2500\u2500\u2500\u2500\u2500\u2500\u2500\u2500\u2500\u2500\u2500\u2500\u2500\u2500\u2500\u2500\u2500\u2500\u2500\u2500\u2500\u2500\u2500\u2500\u2500\n",
        "                                1920\u22c5cos(y\u2080)                                  \n",
        "                                                                              \n",
        "\n",
        "                                                                          3/2 \n",
        "     ___        2          3          4   2 \u239b        \\omega_y\u22c5h\u0305         \u239e    \n",
        "   \u2572\u2571 2 \u22c5\\omega\u2093 \u22c5\\tilde{x} \u22c5\\tilde{y} \u22c5h\u0305 \u22c5\u239c\u2500\u2500\u2500\u2500\u2500\u2500\u2500\u2500\u2500\u2500\u2500\u2500\u2500\u2500\u2500\u2500\u2500\u2500\u2500\u2500\u2500\u2500\u2500\u2500\u2500\u2500\u2500\u2500\u239f   \u22c5\n",
        "                                            \u239dE_\\mathrm{j}\u22c5(2\u22c5b + cos(y\u2080))\u23a0    \n",
        " - \u2500\u2500\u2500\u2500\u2500\u2500\u2500\u2500\u2500\u2500\u2500\u2500\u2500\u2500\u2500\u2500\u2500\u2500\u2500\u2500\u2500\u2500\u2500\u2500\u2500\u2500\u2500\u2500\u2500\u2500\u2500\u2500\u2500\u2500\u2500\u2500\u2500\u2500\u2500\u2500\u2500\u2500\u2500\u2500\u2500\u2500\u2500\u2500\u2500\u2500\u2500\u2500\u2500\u2500\u2500\u2500\u2500\u2500\u2500\u2500\u2500\u2500\u2500\u2500\u2500\u2500\u2500\u2500\u2500\u2500\u2500\u2500\u2500\u2500\u2500\n",
        "                                                    2                         \n",
        "                               1152\u22c5E_\\mathrm{j}\u22c5cos (y\u2080)                     \n",
        "\n",
        "                                                      ________________________\n",
        "            ___        3                    6   3    \u2571         \\omega_y\u22c5h\u0305    \n",
        "sin(y\u2080)   \u2572\u2571 2 \u22c5\\omega\u2093 \u22c5\\tilde{x}\u22c5\\tilde{y} \u22c5h\u0305 \u22c5  \u2571  \u2500\u2500\u2500\u2500\u2500\u2500\u2500\u2500\u2500\u2500\u2500\u2500\u2500\u2500\u2500\u2500\u2500\u2500\u2500\u2500\u2500\u2500\u2500\n",
        "                                                  \u2572\u2571   E_\\mathrm{j}\u22c5(2\u22c5b + cos\n",
        "\u2500\u2500\u2500\u2500\u2500\u2500\u2500 - \u2500\u2500\u2500\u2500\u2500\u2500\u2500\u2500\u2500\u2500\u2500\u2500\u2500\u2500\u2500\u2500\u2500\u2500\u2500\u2500\u2500\u2500\u2500\u2500\u2500\u2500\u2500\u2500\u2500\u2500\u2500\u2500\u2500\u2500\u2500\u2500\u2500\u2500\u2500\u2500\u2500\u2500\u2500\u2500\u2500\u2500\u2500\u2500\u2500\u2500\u2500\u2500\u2500\u2500\u2500\u2500\u2500\u2500\u2500\u2500\u2500\u2500\u2500\u2500\u2500\u2500\u2500\u2500\n",
        "                                                      2    3                  \n",
        "                                     5760\u22c5E_\\mathrm{j} \u22c5cos (y\u2080)              \n",
        "\n",
        "______        \n",
        "              \n",
        "\u2500\u2500\u2500\u2500\u2500 \u22c5sin(y\u2080)\n",
        "(y\u2080))         \n",
        "\u2500\u2500\u2500\u2500\u2500\u2500\u2500\u2500\u2500\u2500\u2500\u2500\u2500\u2500\n",
        "              \n",
        "              "
       ]
      },
      {
       "output_type": "stream",
       "stream": "stdout",
       "text": [
        "8 order:\n"
       ]
      },
      {
       "latex": [
        "$$- \\frac{\\omega_{x}^{4} \\tilde{y}^{8} \\hbar^{4}}{322560 E_{\\mathrm{j}}^{3} \\cos^{3}{\\left (y_{0} \\right )}} - \\frac{\\omega_{x}^{3} \\omega_{y} \\tilde{x}^{2} \\tilde{y}^{6} \\hbar^{4}}{11520 E_{\\mathrm{j}}^{3} \\left(2 b + \\cos{\\left (y_{0} \\right )}\\right) \\cos^{2}{\\left (y_{0} \\right )}} - \\frac{\\omega_{x}^{2} \\omega_{y}^{2} \\tilde{x}^{4} \\tilde{y}^{4} \\hbar^{4}}{4608 E_{\\mathrm{j}}^{3} \\left(2 b + \\cos{\\left (y_{0} \\right )}\\right)^{2} \\cos{\\left (y_{0} \\right )}} - \\frac{\\omega_{x} \\omega_{y}^{3} \\tilde{x}^{6} \\tilde{y}^{2} \\hbar^{4}}{11520 E_{\\mathrm{j}}^{3} \\left(2 b + \\cos{\\left (y_{0} \\right )}\\right)^{3}} - \\frac{\\omega_{y}^{4} \\tilde{x}^{8} \\hbar^{4} \\cos{\\left (y_{0} \\right )}}{322560 E_{\\mathrm{j}}^{3} \\left(2 b + \\cos{\\left (y_{0} \\right )}\\right)^{4}}$$"
       ],
       "metadata": {},
       "output_type": "display_data",
       "text": [
        "            4          8   4             3                   2          6   4 \n",
        "     \\omega\u2093 \u22c5\\tilde{y} \u22c5h\u0305       \\omega\u2093 \u22c5\\omega_y\u22c5\\tilde{x} \u22c5\\tilde{y} \u22c5h\u0305  \n",
        "- \u2500\u2500\u2500\u2500\u2500\u2500\u2500\u2500\u2500\u2500\u2500\u2500\u2500\u2500\u2500\u2500\u2500\u2500\u2500\u2500\u2500\u2500\u2500\u2500\u2500\u2500\u2500\u2500\u2500 - \u2500\u2500\u2500\u2500\u2500\u2500\u2500\u2500\u2500\u2500\u2500\u2500\u2500\u2500\u2500\u2500\u2500\u2500\u2500\u2500\u2500\u2500\u2500\u2500\u2500\u2500\u2500\u2500\u2500\u2500\u2500\u2500\u2500\u2500\u2500\u2500\u2500\u2500\u2500\u2500\u2500\u2500\u2500\u2500\n",
        "                     3    3                         3                    2    \n",
        "  322560\u22c5E_\\mathrm{j} \u22c5cos (y\u2080)   11520\u22c5E_\\mathrm{j} \u22c5(2\u22c5b + cos(y\u2080))\u22c5cos (y\u2080)\n",
        "\n",
        "          2         2          4          4   4                   3          6\n",
        "   \\omega\u2093 \u22c5\\omega_y \u22c5\\tilde{x} \u22c5\\tilde{y} \u22c5h\u0305    \\omega\u2093\u22c5\\omega_y \u22c5\\tilde{x} \n",
        " - \u2500\u2500\u2500\u2500\u2500\u2500\u2500\u2500\u2500\u2500\u2500\u2500\u2500\u2500\u2500\u2500\u2500\u2500\u2500\u2500\u2500\u2500\u2500\u2500\u2500\u2500\u2500\u2500\u2500\u2500\u2500\u2500\u2500\u2500\u2500\u2500\u2500\u2500\u2500\u2500\u2500\u2500\u2500\u2500 - \u2500\u2500\u2500\u2500\u2500\u2500\u2500\u2500\u2500\u2500\u2500\u2500\u2500\u2500\u2500\u2500\u2500\u2500\u2500\u2500\u2500\u2500\u2500\u2500\u2500\u2500\u2500\u2500\n",
        "                    3                2                                  3     \n",
        "   4608\u22c5E_\\mathrm{j} \u22c5(2\u22c5b + cos(y\u2080)) \u22c5cos(y\u2080)        11520\u22c5E_\\mathrm{j} \u22c5(2\u22c5b\n",
        "\n",
        "          2   4              4          8   4          \n",
        "\u22c5\\tilde{y} \u22c5h\u0305       \\omega_y \u22c5\\tilde{x} \u22c5h\u0305 \u22c5cos(y\u2080)  \n",
        "\u2500\u2500\u2500\u2500\u2500\u2500\u2500\u2500\u2500\u2500\u2500\u2500\u2500\u2500\u2500 - \u2500\u2500\u2500\u2500\u2500\u2500\u2500\u2500\u2500\u2500\u2500\u2500\u2500\u2500\u2500\u2500\u2500\u2500\u2500\u2500\u2500\u2500\u2500\u2500\u2500\u2500\u2500\u2500\u2500\u2500\u2500\u2500\u2500\u2500\u2500\u2500\u2500\n",
        "           3                         3                4\n",
        " + cos(y\u2080))       322560\u22c5E_\\mathrm{j} \u22c5(2\u22c5b + cos(y\u2080)) "
       ]
      }
     ],
     "prompt_number": 7
    }
   ],
   "metadata": {}
  }
 ]
}